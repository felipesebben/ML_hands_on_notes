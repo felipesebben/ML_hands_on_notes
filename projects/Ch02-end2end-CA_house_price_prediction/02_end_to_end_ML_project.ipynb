{
  "nbformat": 4,
  "nbformat_minor": 0,
  "metadata": {
    "colab": {
      "provenance": [],
      "authorship_tag": "ABX9TyOXRfPNPH7gcP6ScwNmow1J",
      "include_colab_link": true
    },
    "kernelspec": {
      "name": "python3",
      "display_name": "Python 3"
    },
    "language_info": {
      "name": "python"
    }
  },
  "cells": [
    {
      "cell_type": "markdown",
      "metadata": {
        "id": "view-in-github",
        "colab_type": "text"
      },
      "source": [
        "<a href=\"https://colab.research.google.com/github/felipesebben/ML_hands_on_notes/blob/master/projects/Ch02-end2end-CA_house_price_prediction/02_end_to_end_ML_project.ipynb\" target=\"_parent\"><img src=\"https://colab.research.google.com/assets/colab-badge.svg\" alt=\"Open In Colab\"/></a>"
      ]
    },
    {
      "cell_type": "markdown",
      "source": [],
      "metadata": {
        "id": "oQipe_TjhGxW"
      }
    },
    {
      "cell_type": "markdown",
      "source": [
        "<h1>Chapter 2 | <b>End-to-end ML Project</b></h1>\n",
        "<p>Here's our first ML project following Chapter 2's notes. Let's make sure everything goes smoothly and follow the book's instructions carefully!</p>\n",
        "<h2>Setup</h2>\n",
        "<h3>Import libraries</h3>"
      ],
      "metadata": {
        "id": "Z3xvjV9hkurb"
      }
    },
    {
      "cell_type": "code",
      "execution_count": 3,
      "metadata": {
        "id": "EfhTyTKIcfng"
      },
      "outputs": [],
      "source": [
        "# Make sure we're running Python 3.7 or above\n",
        "import sys\n",
        "assert sys.version_info >= (3, 7)\n",
        "\n",
        "# Make sure we're running Scikit-Learn 1.0.1 or above\n",
        "from packaging import version\n",
        "import sklearn\n",
        "\n",
        "assert version.parse(sklearn.__version__) >= version.parse(\"1.0.1\")\n",
        "\n",
        "# Import other libraries\n",
        "from pathlib import Path\n",
        "import pandas as pd\n",
        "import tarfile\n",
        "import urllib.request"
      ]
    },
    {
      "cell_type": "markdown",
      "source": [
        "<h2><b>Get</b> the data</h2>\n",
        "<p><b>Assignment</b>: predict median house values in Californian districts given a number of features from these districts.</p>\n",
        "<h3><b>Download</b> the data</h2>\n",
        "<p>Let's prepare a function to download and decompress the dataset. This is a good practice when you need to regularly access changing data.</p>"
      ],
      "metadata": {
        "id": "-iqbLpthlrH6"
      }
    },
    {
      "cell_type": "code",
      "source": [
        "def load_housing_data():\n",
        "  tarball_path = Path(\"datasets/housing.tgz\")\n",
        "  if not tarball_path.is_file():\n",
        "    Path(\"datasets\").mkdir(parents=True, exist_ok=True)\n",
        "    url=\"https://github.com/ageron/data/raw/main/housing.tgz\"\n",
        "    urllib.request.urlretrieve(url, tarball_path)\n",
        "    with tarfile.open(tarball_path) as housing_tarball:\n",
        "      housing_tarball.extractall(path=\"datasets\")\n",
        "    return pd.read_csv(Path(\"datasets/housing/housing.csv\"))"
      ],
      "metadata": {
        "id": "z9R0O_Dmctzg"
      },
      "execution_count": 8,
      "outputs": []
    },
    {
      "cell_type": "code",
      "source": [
        "  tarball_path = Path(\"datasets/housing.tgz\")\n",
        "  tarball_path.resolve()\n"
      ],
      "metadata": {
        "colab": {
          "base_uri": "https://localhost:8080/"
        },
        "id": "OmjVi2Mzoyml",
        "outputId": "b0876444-aa94-4e4f-b81f-e0a22704d86e"
      },
      "execution_count": 18,
      "outputs": [
        {
          "output_type": "execute_result",
          "data": {
            "text/plain": [
              "PosixPath('/content/datasets/housing.tgz')"
            ]
          },
          "metadata": {},
          "execution_count": 18
        }
      ]
    },
    {
      "cell_type": "code",
      "source": [
        "housing = load_housing_data()"
      ],
      "metadata": {
        "id": "yJHgdEh7ctSp"
      },
      "execution_count": 9,
      "outputs": []
    },
    {
      "cell_type": "markdown",
      "source": [
        "<h3>Take a <b>quick look</b> at the data structure</h3>"
      ],
      "metadata": {
        "id": "8LEGbBzInrfi"
      }
    },
    {
      "cell_type": "code",
      "source": [],
      "metadata": {
        "id": "Qjj2y07anTRe"
      },
      "execution_count": null,
      "outputs": []
    }
  ]
}